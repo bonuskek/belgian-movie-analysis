{
 "cells": [
  {
   "cell_type": "code",
   "execution_count": null,
   "id": "38f95369-2fbe-461a-8f30-4cd8cbd3052a",
   "metadata": {},
   "outputs": [],
   "source": [
    "import pandas as pd\n",
    "data=\"C://Users/mceti/Desktop/Syntra Data Analyst Documents/eindwerk/director.csv\"\n",
    "df = pd.read_csv(data,sep=';',header=0,encoding='latin-1')\n",
    "cols = [2,3,4,5,6,7,8]\n",
    "df.drop(df.columns[cols],axis=1,inplace=True)\n",
    "df.to_csv(data, sep=';', index=False, encoding='latin-1')\n",
    "print(df)"
   ]
  },
  {
   "cell_type": "code",
   "execution_count": null,
   "id": "ea0cadf6-9e46-477d-9a02-42dd73c191e3",
   "metadata": {},
   "outputs": [],
   "source": [
    "import pandas as pd\n",
    "data=\"C://Users/mceti/Desktop/Syntra Data Analyst Documents/eindwerk/release_year.csv\"\n",
    "df = pd.read_csv(data,sep=';',header=0,encoding='latin-1')\n",
    "cols = [2,3,4,5,6,7,8,9]\n",
    "df.drop(df.columns[cols],axis=1,inplace=True)\n",
    "df.to_csv(data, sep=';', index=False, encoding='latin-1')\n",
    "print(df)"
   ]
  },
  {
   "cell_type": "code",
   "execution_count": null,
   "id": "0e8fd9bd-73d5-4f75-878f-9264b132371c",
   "metadata": {},
   "outputs": [],
   "source": [
    "import pandas as pd\n",
    "data=\"C://Users/mceti/Desktop/Syntra Data Analyst Documents/eindwerk/fact_table.csv\"\n",
    "df = pd.read_csv(data,sep=';',header=0,encoding='latin-1')\n",
    "cols = [0,3,6,7,9,10,11]\n",
    "df.drop(df.columns[cols],axis=1,inplace=True)\n",
    "df.to_csv(data, sep=';', index=False, encoding='latin-1')\n",
    "df.head()"
   ]
  },
  {
   "cell_type": "code",
   "execution_count": 52,
   "id": "426c4401-a5f7-452d-b834-7c1b9934fa89",
   "metadata": {},
   "outputs": [],
   "source": [
    "import pandas as pd\n",
    "dim1=\"C://Users/mceti/Desktop/Syntra Data Analyst Documents/eindwerk/director.csv\"\n",
    "dim2=\"C://Users/mceti/Desktop/Syntra Data Analyst Documents/eindwerk/genre.csv\"\n",
    "dim3=\"C://Users/mceti/Desktop/Syntra Data Analyst Documents/eindwerk/language.csv\"\n",
    "dim4=\"C://Users/mceti/Desktop/Syntra Data Analyst Documents/eindwerk/release_year.csv\"\n",
    "\n",
    "\n",
    "# Read dimension tables and fact table into DataFrames\n",
    "dim_table1 = pd.read_csv(dim1,sep=';',header=0,encoding='latin-1')\n",
    "dim_table2 = pd.read_csv(dim2,sep=';',header=0,encoding='latin-1')\n",
    "dim_table3 = pd.read_csv(dim3,sep=';',header=0,encoding='latin-1')\n",
    "dim_table4 = pd.read_csv(dim5,sep=';',header=0,encoding='latin-1')\n",
    "\n",
    "\n",
    "# Read more dimension tables if needed\n",
    "fact1=\"C://Users/mceti/Desktop/Syntra Data Analyst Documents/eindwerk/fact_table.csv\"\n",
    "fact_table = pd.read_csv(fact1,sep=';',header=0,encoding='latin-1')\n",
    "\n",
    "# Merge dimension tables with fact table\n",
    "merged_fact_table = pd.merge(fact_table, dim_table1, how='left', on='director_name')\n",
    "merged_fact_table = pd.merge(merged_fact_table, dim_table2, how='left', on='genre')\n",
    "merged_fact_table = pd.merge(merged_fact_table, dim_table3, how='left', on='language')\n",
    "merged_fact_table = pd.merge(merged_fact_table, dim_table4, how='left', on='release_year')\n",
    "\n",
    "\n",
    "# Replace relevant columns in fact table with corresponding columns from dimension tables\n",
    "fact_table['director_name'] = merged_fact_table['director_list']\n",
    "fact_table['genre'] = merged_fact_table['genre_list']\n",
    "fact_table['language'] = merged_fact_table['lan_list']\n",
    "fact_table['release_year'] = merged_fact_table['year_list']\n",
    "\n",
    "\n",
    "# Save the resulting fact table to a new CSV file\n",
    "fact_table.to_csv(data, sep=';', index=False, encoding='latin-1')\n"
   ]
  },
  {
   "cell_type": "code",
   "execution_count": null,
   "id": "cedc663b-5964-4742-911d-78fd16f975b7",
   "metadata": {},
   "outputs": [],
   "source": []
  }
 ],
 "metadata": {
  "kernelspec": {
   "display_name": "Python 3 (ipykernel)",
   "language": "python",
   "name": "python3"
  },
  "language_info": {
   "codemirror_mode": {
    "name": "ipython",
    "version": 3
   },
   "file_extension": ".py",
   "mimetype": "text/x-python",
   "name": "python",
   "nbconvert_exporter": "python",
   "pygments_lexer": "ipython3",
   "version": "3.12.2"
  }
 },
 "nbformat": 4,
 "nbformat_minor": 5
}
